{
 "cells": [
  {
   "cell_type": "code",
   "execution_count": 1,
   "id": "2a7b3333",
   "metadata": {},
   "outputs": [],
   "source": [
    "import pandas as pd"
   ]
  },
  {
   "cell_type": "code",
   "execution_count": 2,
   "id": "ac82e716",
   "metadata": {},
   "outputs": [],
   "source": [
    "# Load the dataset\n",
    "file_path = \"C:\\\\Users\\\\kadir\\\\Downloads\\\\country_vaccination_stats.csv\"\n",
    "df = pd.read_csv(file_path)"
   ]
  },
  {
   "cell_type": "code",
   "execution_count": 3,
   "id": "f55784bb",
   "metadata": {},
   "outputs": [
    {
     "data": {
      "text/html": [
       "<div>\n",
       "<style scoped>\n",
       "    .dataframe tbody tr th:only-of-type {\n",
       "        vertical-align: middle;\n",
       "    }\n",
       "\n",
       "    .dataframe tbody tr th {\n",
       "        vertical-align: top;\n",
       "    }\n",
       "\n",
       "    .dataframe thead th {\n",
       "        text-align: right;\n",
       "    }\n",
       "</style>\n",
       "<table border=\"1\" class=\"dataframe\">\n",
       "  <thead>\n",
       "    <tr style=\"text-align: right;\">\n",
       "      <th></th>\n",
       "      <th>country</th>\n",
       "      <th>date</th>\n",
       "      <th>daily_vaccinations</th>\n",
       "      <th>vaccines</th>\n",
       "    </tr>\n",
       "  </thead>\n",
       "  <tbody>\n",
       "    <tr>\n",
       "      <th>0</th>\n",
       "      <td>Argentina</td>\n",
       "      <td>12/29/2020</td>\n",
       "      <td>NaN</td>\n",
       "      <td>Sputnik V</td>\n",
       "    </tr>\n",
       "    <tr>\n",
       "      <th>1</th>\n",
       "      <td>Argentina</td>\n",
       "      <td>12/30/2020</td>\n",
       "      <td>15656.0</td>\n",
       "      <td>Sputnik V</td>\n",
       "    </tr>\n",
       "    <tr>\n",
       "      <th>2</th>\n",
       "      <td>Argentina</td>\n",
       "      <td>12/31/2020</td>\n",
       "      <td>15656.0</td>\n",
       "      <td>Sputnik V</td>\n",
       "    </tr>\n",
       "    <tr>\n",
       "      <th>3</th>\n",
       "      <td>Argentina</td>\n",
       "      <td>1/1/2021</td>\n",
       "      <td>11070.0</td>\n",
       "      <td>Sputnik V</td>\n",
       "    </tr>\n",
       "    <tr>\n",
       "      <th>4</th>\n",
       "      <td>Argentina</td>\n",
       "      <td>1/2/2021</td>\n",
       "      <td>8776.0</td>\n",
       "      <td>Sputnik V</td>\n",
       "    </tr>\n",
       "  </tbody>\n",
       "</table>\n",
       "</div>"
      ],
      "text/plain": [
       "     country        date  daily_vaccinations   vaccines\n",
       "0  Argentina  12/29/2020                 NaN  Sputnik V\n",
       "1  Argentina  12/30/2020             15656.0  Sputnik V\n",
       "2  Argentina  12/31/2020             15656.0  Sputnik V\n",
       "3  Argentina    1/1/2021             11070.0  Sputnik V\n",
       "4  Argentina    1/2/2021              8776.0  Sputnik V"
      ]
     },
     "execution_count": 3,
     "metadata": {},
     "output_type": "execute_result"
    }
   ],
   "source": [
    "df.head()"
   ]
  },
  {
   "cell_type": "code",
   "execution_count": 9,
   "id": "f1bf0fce",
   "metadata": {},
   "outputs": [],
   "source": [
    "#question4-5\n",
    "min_daily_vaccinations_per_country = df.groupby('country')['daily_vaccinations'].min()"
   ]
  },
  {
   "cell_type": "code",
   "execution_count": 10,
   "id": "bae0fb23",
   "metadata": {},
   "outputs": [],
   "source": [
    "#question4-5\n",
    "for country in df['country'].unique():\n",
    "    min_vaccination = min_daily_vaccinations_per_country.get(country, 0)\n",
    "    if pd.isna(min_vaccination):  # Check if the minimum value is NaN\n",
    "        min_vaccination = 0  # Set to 0 if there is no valid number\n",
    "    df.loc[df['country'] == country, 'daily_vaccinations'] = df.loc[df['country'] == country, 'daily_vaccinations'].fillna(min_vaccination)\n"
   ]
  },
  {
   "cell_type": "code",
   "execution_count": 11,
   "id": "b20abd39",
   "metadata": {},
   "outputs": [
    {
     "name": "stdout",
     "output_type": "stream",
     "text": [
      "     country        date  daily_vaccinations   vaccines\n",
      "0  Argentina  12/29/2020              6483.0  Sputnik V\n",
      "1  Argentina  12/30/2020             15656.0  Sputnik V\n",
      "2  Argentina  12/31/2020             15656.0  Sputnik V\n",
      "3  Argentina    1/1/2021             11070.0  Sputnik V\n",
      "4  Argentina    1/2/2021              8776.0  Sputnik V\n"
     ]
    }
   ],
   "source": [
    "#question4-5\n",
    "print(df.head())"
   ]
  },
  {
   "cell_type": "code",
   "execution_count": 17,
   "id": "437871f9",
   "metadata": {},
   "outputs": [],
   "source": [
    "#question6\n",
    "# Impute missing data in 'daily_vaccinations' column per country\n",
    "min_daily_vaccinations = df.groupby('country')['daily_vaccinations'].transform('min')\n",
    "df['daily_vaccinations'].fillna(min_daily_vaccinations, inplace=True)\n",
    "df['daily_vaccinations'].fillna(0, inplace=True)  # Fill remaining NAs with 0\n"
   ]
  },
  {
   "cell_type": "code",
   "execution_count": 18,
   "id": "97ceb812",
   "metadata": {},
   "outputs": [],
   "source": [
    "#question6\n",
    "# Calculate the median daily vaccinations for each country\n",
    "median_daily_vaccinations = df.groupby('country')['daily_vaccinations'].median()"
   ]
  },
  {
   "cell_type": "code",
   "execution_count": 19,
   "id": "c94a1c1a",
   "metadata": {},
   "outputs": [],
   "source": [
    "#question6\n",
    "# Find the top-3 countries with the highest median daily vaccination numbers\n",
    "top_3_countries = median_daily_vaccinations.sort_values(ascending=False).head(3)"
   ]
  },
  {
   "cell_type": "code",
   "execution_count": 20,
   "id": "6d767c72",
   "metadata": {},
   "outputs": [
    {
     "name": "stdout",
     "output_type": "stream",
     "text": [
      "country\n",
      "United States    378253.0\n",
      "China            276786.0\n",
      "India            173922.0\n",
      "Name: daily_vaccinations, dtype: float64\n"
     ]
    }
   ],
   "source": [
    "#question6\n",
    "# Print the top-3 countries\n",
    "print(top_3_countries)"
   ]
  },
  {
   "cell_type": "code",
   "execution_count": null,
   "id": "12a0d9e2",
   "metadata": {},
   "outputs": [],
   "source": []
  }
 ],
 "metadata": {
  "kernelspec": {
   "display_name": "Python 3 (ipykernel)",
   "language": "python",
   "name": "python3"
  },
  "language_info": {
   "codemirror_mode": {
    "name": "ipython",
    "version": 3
   },
   "file_extension": ".py",
   "mimetype": "text/x-python",
   "name": "python",
   "nbconvert_exporter": "python",
   "pygments_lexer": "ipython3",
   "version": "3.11.3"
  }
 },
 "nbformat": 4,
 "nbformat_minor": 5
}
